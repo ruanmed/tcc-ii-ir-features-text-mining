{
 "cells": [
  {
   "cell_type": "markdown",
   "metadata": {},
   "source": [
    "### SemEval2019 Hyperpartisan News Detection\n",
    "#### Using GloVe as document representation"
   ]
  },
  {
   "cell_type": "code",
   "execution_count": 16,
   "metadata": {},
   "outputs": [],
   "source": [
    "from lxml.etree import iterparse\n",
    "import xml\n",
    "\n",
    "import numpy as np\n",
    "import random\n",
    "import os\n",
    "random_seed = 42\n",
    "seed_value = random_seed\n",
    "\n",
    "# 1. Set `PYTHONHASHSEED` environment variable at a fixed value\n",
    "os.environ['PYTHONHASHSEED'] = str(seed_value)\n",
    "\n",
    "# 2. Set `python` built-in pseudo-random generator at a fixed value\n",
    "random.seed(seed_value)\n",
    "\n",
    "# 3. Set `numpy` pseudo-random generator at a fixed value\n",
    "np.random.seed(seed_value)\n",
    "\n",
    "import pandas as pd\n",
    "import pickle\n",
    "\n",
    "import sys\n",
    "sys.path.append('/home/ruan/Documentos/git/tcc-ii-ir-features-text-mining/tool-testing/corpus_2_solution_2/')\n",
    "\n",
    "from sklearn.linear_model import LogisticRegression\n",
    "from sklearn.svm import SVC, LinearSVC\n",
    "from sklearn.preprocessing import StandardScaler\n",
    "from sklearn.pipeline import Pipeline\n",
    "from sklearn.metrics import accuracy_score, confusion_matrix, precision_score, recall_score\n",
    "from sklearn.model_selection import cross_val_score\n",
    "\n",
    "from sklearn import preprocessing\n",
    "\n",
    "from utils import *\n",
    "\n",
    "import nltk\n",
    "# nltk.download('punkt')"
   ]
  },
  {
   "cell_type": "code",
   "execution_count": 17,
   "metadata": {},
   "outputs": [],
   "source": [
    "import inspect\n",
    "import datetime\n",
    "import logging\n",
    "import pickle\n",
    "import time\n",
    "root_path = \"/home/ruan/Documentos/git/tcc-ii-ir-features-text-mining/tool-testing/\"\n",
    "sys.path.insert(0, root_path)\n",
    "from indextoolmanager import IndexToolManager\n",
    "\n",
    "variable_name = 'TRAIN_CLF'\n",
    "datestr = datetime.datetime.now().strftime(\"%Y-%m-%d_%H-%M-%S\")\n",
    "\n",
    "# set up logging to file - see previous section for more details\n",
    "logging.basicConfig(level=logging.INFO,\n",
    "                    format='%(asctime)s %(name)-12s %(levelname)-8s %(message)s',\n",
    "                    datefmt='%Y-%m-%d %H:%M:%S',\n",
    "                    filename=f'{root_path}logs/C2-S2-{datestr}-{variable_name}_debug.log',\n",
    "                    filemode='w')\n",
    "# define a Handler which writes INFO messages or higher to the sys.stderr\n",
    "console = logging.StreamHandler()\n",
    "console.setLevel(logging.INFO)\n",
    "# set a format which is simpler for console use\n",
    "formatter = logging.Formatter('%(name)-12s: %(levelname)-8s %(message)s')\n",
    "# tell the handler to use this format\n",
    "console.setFormatter(formatter)\n",
    "# add the handler to the root logger\n",
    "logging.getLogger(variable_name).addHandler(console)"
   ]
  },
  {
   "cell_type": "code",
   "execution_count": 18,
   "metadata": {},
   "outputs": [],
   "source": [
    "mylogger = logging.getLogger(variable_name)\n",
    "handler1 = logging.FileHandler(f'{root_path}logs/{datestr}-{variable_name}.log')\n",
    "handler1.setLevel(logging.INFO)\n",
    "formatter = logging.Formatter(\n",
    "    '%(asctime)s %(name)-12s %(levelname)-8s %(message)s', datefmt='%Y-%m-%d %H:%M:%S')\n",
    "\n",
    "handler1.setFormatter(formatter)\n",
    "mylogger.addHandler(handler1)\n",
    "\n",
    "add_ir_variables = True\n",
    "ignore_first_result = True\n",
    "exp_id = str(datetime.datetime.now())\n",
    "tool = 'zettair'\n",
    "ir_top_k = 100\n",
    "hyperpartisan_db_name = 'hyperpartisan_split_42_bulk'\n",
    "hyperpartisan_orig_db_name = 'hyperpartisan_bulk'"
   ]
  },
  {
   "cell_type": "code",
   "execution_count": 19,
   "metadata": {},
   "outputs": [],
   "source": [
    "exp_dict = {\n",
    "    'exp_id': exp_id,\n",
    "    'tool': tool,\n",
    "    'db': 'hyperpartisan',\n",
    "    'db_name': hyperpartisan_db_name,\n",
    "    'add_ir_variables': add_ir_variables,\n",
    "    'solution_number': '2',\n",
    "    'solution_name': '4_tom',\n",
    "    'ir_top_k': ir_top_k,\n",
    "    # 'train_input': '',\n",
    "    # 'train_epochs': '',\n",
    "    'ignore_first_result': ignore_first_result,\n",
    "    'random_seed': random_seed,\n",
    "    'classifier': '',\n",
    "    'svc_C': '',\n",
    "    'svc_max_iter': '',\n",
    "}\n",
    "testTool = IndexToolManager(\n",
    "    indexName=str(hyperpartisan_db_name), top_k=exp_dict['ir_top_k'])\n",
    "testTool = IndexToolManager(\n",
    "    indexName=str(hyperpartisan_db_name), top_k=exp_dict['ir_top_k'])"
   ]
  },
  {
   "cell_type": "code",
   "execution_count": 20,
   "metadata": {},
   "outputs": [],
   "source": [
    "def readFiles(textFile, labelFile):\n",
    "    X,y = [], []    \n",
    "    with open(labelFile) as labelFile:\n",
    "        xml.sax.parse(labelFile, GroundTruthHandler(y))       \n",
    "    for event, elem in iterparse(textFile):\n",
    "        if elem.tag == \"article\":\n",
    "            title = elem.attrib['title']\n",
    "            text = \"\".join(elem.itertext())\n",
    "            title = cleanQuotations(title)\n",
    "            text = cleanQuotations(text)\n",
    "            text = cleanText(fixup(text))\n",
    "            text = ' '.join(text.split()[:1000])\n",
    "            X.append(title + \". \" + text)\n",
    "            elem.clear()\n",
    "    return np.asarray(X), np.asarray(y)"
   ]
  },
  {
   "cell_type": "code",
   "execution_count": 21,
   "metadata": {},
   "outputs": [],
   "source": [
    "def read_glove(path, dim):\n",
    "    '''\n",
    "    read the glove vectors from path with dimension dim\n",
    "    '''\n",
    "    df = pd.read_csv(path + 'glove.6B.' + str(dim) + 'd.txt', sep=\" \", quoting=3, header=None, index_col=0)\n",
    "    glove = {key: val.values for key, val in df.T.items()}\n",
    "    return glove"
   ]
  },
  {
   "cell_type": "code",
   "execution_count": 22,
   "metadata": {},
   "outputs": [],
   "source": [
    "# set path for data\n",
    "dataPath = root_path + 'db_hyperpartisan/'\n",
    "pretrained_wv_path = root_path + \"corpus_2_solution_2/pretrained_wv/\"\n",
    "\n",
    "textFile = dataPath + 'articles-training-byarticle.xml'\n",
    "\n",
    "labelFile = dataPath + \"ground-truth-training-byarticle.xml\"\n",
    "\n",
    "# read in data and glove vectors\n",
    "texts, labels = readFiles(textFile, labelFile)\n",
    "\n",
    "glove = read_glove(pretrained_wv_path, 300)\n",
    "\n",
    "# split the samples with the same seed to compare results with other methods\n",
    "# id1, id2 = fixedTestSplit(labels)\n",
    "id1, id2 = fixedTestSplit42(labels)"
   ]
  },
  {
   "cell_type": "code",
   "execution_count": 23,
   "metadata": {},
   "outputs": [],
   "source": [
    "def gloveVectorize(glove, text):\n",
    "    '''\n",
    "    Find the pretrained glove vectors of the first 1000 words in the articles.\n",
    "    The final vector is the average of the vectors\n",
    "    '''\n",
    "    ir_variables_of_this_author, time_query_list = [], []\n",
    "    dim = len(glove[\"the\"])\n",
    "    if (exp_dict['add_ir_variables']):\n",
    "        X = np.zeros( (len(text), dim+6) )\n",
    "    else:\n",
    "        X = np.zeros( (len(text), dim) )\n",
    "    for text_id, t in enumerate(text):\n",
    "        tmp = np.zeros((1, dim))\n",
    "        # tokenize and remove stopwords\n",
    "        words = customTokenize(t, rm_stopwords=True)\n",
    "        words = [w for w in words if w in glove.keys()]\n",
    "        for word in words:\n",
    "            tmp[:] += glove[word]\n",
    "        ir_variables = {}\n",
    "        ir_vars_dict = []\n",
    "        if (exp_dict['add_ir_variables']):\n",
    "            initial = None\n",
    "            final = None\n",
    "            initial = time.time()\n",
    "            ign_first = ignore_first_result and (text_id in id1)\n",
    "            if (exp_dict['tool'] == 'arango'):\n",
    "                ir_variables = testTool.arango_get_IR_variables(\n",
    "                    t, 'true', ignore_first_result=ign_first)\n",
    "            elif (exp_dict['tool'] == 'elastic'):\n",
    "                ir_variables = testTool.elastic_get_IR_variables(\n",
    "                    t, 'true', ignore_first_result=ign_first)\n",
    "            elif (exp_dict['tool'] == 'zettair'):\n",
    "                ir_variables = testTool.zettair_get_IR_variables(\n",
    "                    t, 'true', False, ignore_first_result=ign_first)\n",
    "            final = time.time()\n",
    "            time_query_list.append(float(final-initial))\n",
    "            ir_vars_dict = [ir_variables['CLASS_0_BM25_AVG'], ir_variables['CLASS_0_BM25_COUNT'],\n",
    "            ir_variables['CLASS_0_BM25_SUM'], ir_variables['CLASS_1_BM25_AVG'],\n",
    "            ir_variables['CLASS_1_BM25_COUNT'], ir_variables['CLASS_1_BM25_SUM'],\n",
    "]\n",
    "        X[text_id, :] = np.concatenate((tmp/len(words), ir_vars_dict), axis=None)\n",
    "\n",
    "    result_id = datetime.datetime.now().strftime(\"%Y%m%d-%H%M%S.%f\")\n",
    "    time_query = np.mean(time_query_list)\n",
    "    testTool.log_result(result_id, {\n",
    "        'variable': 'TIME_QUERY',\n",
    "        ** exp_dict,\n",
    "        ** testTool.get_parameters(),\n",
    "        'execution_type': 'training_test',\n",
    "        'number_queries': str(len(time_query_list)),\n",
    "        'value': str(time_query),\n",
    "    })\n",
    "\n",
    "    return X"
   ]
  },
  {
   "cell_type": "code",
   "execution_count": 24,
   "metadata": {},
   "outputs": [
    {
     "name": "stdout",
     "output_type": "stream",
     "text": "Train shape:  (430, 306)\nTest shape:  (215, 306)\n"
    }
   ],
   "source": [
    "glove_texts = gloveVectorize(glove, texts)\n",
    "\n",
    "train_x = glove_texts[id1]\n",
    "test_x = glove_texts[id2]\n",
    "print('Train shape: ', train_x.shape)\n",
    "print('Test shape: ', test_x.shape)"
   ]
  },
  {
   "cell_type": "code",
   "execution_count": 25,
   "metadata": {},
   "outputs": [
    {
     "data": {
      "text/plain": "array([[  6.67843345,  11.        ,  73.462768  ,   6.54476044,\n          9.        ,  58.902844  ],\n       [  9.17227862,  13.        , 119.239622  ,   7.926285  ,\n          7.        ,  55.483995  ],\n       [ 10.40865945,  11.        , 114.495254  ,   9.69551867,\n          9.        ,  87.259668  ]])"
     },
     "execution_count": 25,
     "metadata": {},
     "output_type": "execute_result"
    }
   ],
   "source": [
    "train_x[1:4, -6:]"
   ]
  },
  {
   "cell_type": "code",
   "execution_count": 26,
   "metadata": {},
   "outputs": [
    {
     "name": "stdout",
     "output_type": "stream",
     "text": "[KernelSVM] C=0.100000 | acc=0.672093 | acc_test=0.683721 | f1_test=0.244444\n[KernelSVM] C=0.500000 | acc=0.788372 | acc_test=0.813953 | f1_test=0.692308\n[KernelSVM] C=0.600000 | acc=0.790698 | acc_test=0.813953 | f1_test=0.692308\n[KernelSVM] C=0.700000 | acc=0.797674 | acc_test=0.818605 | f1_test=0.702290\n[KernelSVM] C=0.900000 | acc=0.797674 | acc_test=0.827907 | f1_test=0.729927\n[KernelSVM] C=1.000000 | acc=0.802326 | acc_test=0.823256 | f1_test=0.724638\n[KernelSVM] C=1.100000 | acc=0.800000 | acc_test=0.827907 | f1_test=0.733813\n[KernelSVM] C=1.200000 | acc=0.800000 | acc_test=0.832558 | f1_test=0.742857\n[KernelSVM] C=1.500000 | acc=0.797674 | acc_test=0.823256 | f1_test=0.736111\n[KernelSVM] C=1.700000 | acc=0.795349 | acc_test=0.818605 | f1_test=0.731034\n[KernelSVM] C=1.800000 | acc=0.793023 | acc_test=0.818605 | f1_test=0.731034\n[KernelSVM] C=1.900000 | acc=0.790698 | acc_test=0.809302 | f1_test=0.721088\n[KernelSVM] C=2.200000 | acc=0.786047 | acc_test=0.809302 | f1_test=0.721088\n[KernelSVM] C=2.500000 | acc=0.790698 | acc_test=0.813953 | f1_test=0.729730\n[KernelSVM] C=3.500000 | acc=0.786047 | acc_test=0.804651 | f1_test=0.716216\n[KernelSVM] C=4.500000 | acc=0.786047 | acc_test=0.813953 | f1_test=0.729730\n[KernelSVM] C=5.000000 | acc=0.790698 | acc_test=0.804651 | f1_test=0.720000\n[KernelSVM] C=10.000000 | acc=0.793023 | acc_test=0.795349 | f1_test=0.702703\n[KernelSVM] C=20.000000 | acc=0.793023 | acc_test=0.795349 | f1_test=0.702703\n"
    }
   ],
   "source": [
    "import warnings\n",
    "# warnings.filterwarnings(\"ignore\", category = ignoreConvergenceWarning)\n",
    "warnings.filterwarnings('ignore', 'Solver terminated early.*')\n",
    "C = [0.1, 0.5, 0.6, 0.7, 0.9, 1, 1.1, 1.2, 1.5, 1.7, 1.8, 1.9, 2.2, 2.5, 3.5, 4.5, 5,10,20]\n",
    "for c in C:\n",
    "    kernel_svm = Pipeline([\n",
    "        (\"scaler\", StandardScaler()),\n",
    "        (\"svc\", SVC(C=c, gamma=\"auto\", max_iter = 5000))\n",
    "    ])\n",
    "    svm2 = Pipeline([\n",
    "        (\"scaler\", StandardScaler()),\n",
    "        (\"svc\", SVC(C=c, gamma=\"auto\", max_iter = 5000))\n",
    "    ])\n",
    "    svm2.fit(train_x, labels[id1])\n",
    "    trn_pred = svm2.predict(train_x)\n",
    "    tst_pred = svm2.predict(test_x)\n",
    "    cm = confusion_matrix(labels[id2], tst_pred)\n",
    "    tn, fp, fn, tp = cm.ravel()\n",
    "    f1 = 2.0*tp/(2.0*tp + fp + fn)\n",
    "    print(\"[KernelSVM] C=%f | acc=%f | acc_test=%f | f1_test=%f\" %(c,\n",
    "        np.mean(cross_val_score(kernel_svm, train_x, labels[id1], cv=10)),\n",
    "        accuracy_score(labels[id2], tst_pred),\n",
    "        f1))"
   ]
  },
  {
   "cell_type": "code",
   "execution_count": 27,
   "metadata": {},
   "outputs": [
    {
     "name": "stdout",
     "output_type": "stream",
     "text": "[LogisticR] C=0.000010 | acc=0.681395 | acc_test=0.674419 | f1_test=0.375000\n[LogisticR] C=0.001000 | acc=0.686047 | acc_test=0.693023 | f1_test=0.541667\n[LogisticR] C=0.010000 | acc=0.695349 | acc_test=0.697674 | f1_test=0.532374\n[LogisticR] C=0.100000 | acc=0.713953 | acc_test=0.716279 | f1_test=0.541353\n[LogisticR] C=0.500000 | acc=0.725581 | acc_test=0.767442 | f1_test=0.652778\n[LogisticR] C=0.800000 | acc=0.732558 | acc_test=0.753488 | f1_test=0.639456\n[LogisticR] C=0.900000 | acc=0.732558 | acc_test=0.753488 | f1_test=0.639456\n[LogisticR] C=1.000000 | acc=0.734884 | acc_test=0.758140 | f1_test=0.648649\n[LogisticR] C=2.000000 | acc=0.730233 | acc_test=0.781395 | f1_test=0.684564\n[LogisticR] C=3.000000 | acc=0.725581 | acc_test=0.772093 | f1_test=0.675497\n[LogisticR] C=5.000000 | acc=0.737209 | acc_test=0.786047 | f1_test=0.701299\n"
    }
   ],
   "source": [
    "C = [0.00001, 0.001, 0.01, 0.1, 0.5, 0.8, 0.9, 1, 2, 3, 5]\n",
    "for c in C:\n",
    "    lr = LogisticRegression(solver = 'lbfgs', C = c, max_iter=10000)\n",
    "\n",
    "    lr2 = LogisticRegression(solver = 'lbfgs', C = c, max_iter=10000)\n",
    "    lr2.fit(train_x, labels[id1])\n",
    "    trn_pred = lr2.predict(train_x)\n",
    "    tst_pred = lr2.predict(test_x)\n",
    "    cm = confusion_matrix(labels[id2], tst_pred)\n",
    "    tn, fp, fn, tp = cm.ravel()\n",
    "    f1 = 2.0*tp/(2.0*tp + fp + fn)\n",
    "    print(\"[LogisticR] C=%f | acc=%f | acc_test=%f | f1_test=%f\" %(c,\n",
    "        np.mean(cross_val_score(lr, train_x, labels[id1], cv=10)), \n",
    "        accuracy_score(labels[id2], tst_pred),\n",
    "        f1))"
   ]
  },
  {
   "cell_type": "code",
   "execution_count": 28,
   "metadata": {},
   "outputs": [
    {
     "name": "stdout",
     "output_type": "stream",
     "text": "Train accuracy:  0.9209302325581395\nTest accuracy:  0.827906976744186\nTest precision:  0.847457627118644\nTest recall:  0.6410256410256411\n"
    }
   ],
   "source": [
    "model = Pipeline([\n",
    "            (\"scaler\", StandardScaler()),\n",
    "            (\"svc\", SVC(C=0.9, gamma=\"auto\", max_iter = 5000))\n",
    "        ])\n",
    "# model = LogisticRegression(solver = 'lbfgs', C = 1, max_iter=1000)\n",
    "model.fit(train_x, labels[id1])\n",
    "trn_pred = model.predict(train_x)\n",
    "tst_pred = model.predict(test_x)\n",
    "print('Train accuracy: ', accuracy_score(labels[id1], trn_pred))\n",
    "print('Test accuracy: ', accuracy_score(labels[id2], tst_pred))\n",
    "print('Test precision: ', precision_score(labels[id2], tst_pred, pos_label='true'))\n",
    "print('Test recall: ', recall_score(labels[id2], tst_pred, pos_label='true'))"
   ]
  },
  {
   "cell_type": "code",
   "execution_count": 29,
   "metadata": {},
   "outputs": [],
   "source": [
    "def log_resultt():\n",
    "    global exp_dict\n",
    "    result_info = {\n",
    "        ** exp_dict,\n",
    "        'execution_type': 'training_test',\n",
    "    }\n",
    "    result_id = datetime.datetime.now().strftime(\"%Y%m%d-%H%M%S.%f\")\n",
    "    testTool.log_result(result_id, {\n",
    "        'variable': 'CLF_ACC',\n",
    "        ** testTool.get_parameters(),\n",
    "        ** result_info,\n",
    "        'value': result_info['accuracy'],\n",
    "    })\n",
    "    result_id = datetime.datetime.now().strftime(\"%Y%m%d-%H%M%S.%f\")\n",
    "    testTool.log_result(result_id, {\n",
    "        'variable': 'CLF_F1',\n",
    "        ** testTool.get_parameters(),\n",
    "        ** result_info,\n",
    "        'value': result_info['f1'],\n",
    "    })"
   ]
  },
  {
   "cell_type": "code",
   "execution_count": 30,
   "metadata": {},
   "outputs": [
    {
     "name": "stderr",
     "output_type": "stream",
     "text": " | acc_cv_10=0.7837209302325581 | f1_cv_10=0.7011319009351137 | acc_test=0.813953488372093 | f1_test=0.7297297297297297\nTRAIN_CLF   : INFO     [SVC] C=4.3 | acc_train=1.0 | acc_cv_10=0.7837209302325581 | f1_cv_10=0.7011319009351137 | acc_test=0.813953488372093 | f1_test=0.7297297297297297\nTRAIN_CLF   : INFO     [SVC] C=4.4 | acc_train=1.0 | acc_cv_10=0.7837209302325581 | f1_cv_10=0.7011319009351137 | acc_test=0.813953488372093 | f1_test=0.7297297297297297\nTRAIN_CLF   : INFO     [SVC] C=4.4 | acc_train=1.0 | acc_cv_10=0.7837209302325581 | f1_cv_10=0.7011319009351137 | acc_test=0.813953488372093 | f1_test=0.7297297297297297\nTRAIN_CLF   : INFO     [SVC] C=4.5 | acc_train=1.0 | acc_cv_10=0.786046511627907 | f1_cv_10=0.7058117038907789 | acc_test=0.813953488372093 | f1_test=0.7297297297297297\nTRAIN_CLF   : INFO     [SVC] C=4.5 | acc_train=1.0 | acc_cv_10=0.786046511627907 | f1_cv_10=0.7058117038907789 | acc_test=0.813953488372093 | f1_test=0.7297297297297297\nTRAIN_CLF   : INFO     [SVC] C=4.6 | acc_train=1.0 | acc_cv_10=0.7883720930232558 | f1_cv_10=0.7098977253961551 | acc_test=0.813953488372093 | f1_test=0.7297297297297297\nTRAIN_CLF   : INFO     [SVC] C=4.6 | acc_train=1.0 | acc_cv_10=0.7883720930232558 | f1_cv_10=0.7098977253961551 | acc_test=0.813953488372093 | f1_test=0.7297297297297297\nTRAIN_CLF   : INFO     [SVC] C=4.7 | acc_train=1.0 | acc_cv_10=0.7883720930232558 | f1_cv_10=0.7098977253961551 | acc_test=0.8093023255813954 | f1_test=0.7248322147651006\nTRAIN_CLF   : INFO     [SVC] C=4.7 | acc_train=1.0 | acc_cv_10=0.7883720930232558 | f1_cv_10=0.7098977253961551 | acc_test=0.8093023255813954 | f1_test=0.7248322147651006\nTRAIN_CLF   : INFO     [SVC] C=4.8 | acc_train=1.0 | acc_cv_10=0.7883720930232558 | f1_cv_10=0.7098977253961551 | acc_test=0.8093023255813954 | f1_test=0.7248322147651006\nTRAIN_CLF   : INFO     [SVC] C=4.8 | acc_train=1.0 | acc_cv_10=0.7883720930232558 | f1_cv_10=0.7098977253961551 | acc_test=0.8093023255813954 | f1_test=0.7248322147651006\nTRAIN_CLF   : INFO     [SVC] C=4.9 | acc_train=1.0 | acc_cv_10=0.7883720930232558 | f1_cv_10=0.7098977253961551 | acc_test=0.8046511627906977 | f1_test=0.72\nTRAIN_CLF   : INFO     [SVC] C=4.9 | acc_train=1.0 | acc_cv_10=0.7883720930232558 | f1_cv_10=0.7098977253961551 | acc_test=0.8046511627906977 | f1_test=0.72\nTRAIN_CLF   : INFO     [SVC] C=5.0 | acc_train=1.0 | acc_cv_10=0.7906976744186046 | f1_cv_10=0.7120367628293102 | acc_test=0.8046511627906977 | f1_test=0.72\nTRAIN_CLF   : INFO     [SVC] C=5.0 | acc_train=1.0 | acc_cv_10=0.7906976744186046 | f1_cv_10=0.7120367628293102 | acc_test=0.8046511627906977 | f1_test=0.72\nTRAIN_CLF   : INFO     [SVC] C=5.1 | acc_train=1.0 | acc_cv_10=0.7883720930232558 | f1_cv_10=0.7072194722767255 | acc_test=0.8046511627906977 | f1_test=0.72\nTRAIN_CLF   : INFO     [SVC] C=5.1 | acc_train=1.0 | acc_cv_10=0.7883720930232558 | f1_cv_10=0.7072194722767255 | acc_test=0.8046511627906977 | f1_test=0.72\nTRAIN_CLF   : INFO     [SVC] C=5.2 | acc_train=1.0 | acc_cv_10=0.7930232558139535 | f1_cv_10=0.7128146396365987 | acc_test=0.8046511627906977 | f1_test=0.72\nTRAIN_CLF   : INFO     [SVC] C=5.2 | acc_train=1.0 | acc_cv_10=0.7930232558139535 | f1_cv_10=0.7128146396365987 | acc_test=0.8046511627906977 | f1_test=0.72\nTRAIN_CLF   : INFO     [SVC] C=5.3 | acc_train=1.0 | acc_cv_10=0.7953488372093023 | f1_cv_10=0.718105644927604 | acc_test=0.8046511627906977 | f1_test=0.72\nTRAIN_CLF   : INFO     [SVC] C=5.3 | acc_train=1.0 | acc_cv_10=0.7953488372093023 | f1_cv_10=0.718105644927604 | acc_test=0.8046511627906977 | f1_test=0.72\nTRAIN_CLF   : INFO     [SVC] C=5.4 | acc_train=1.0 | acc_cv_10=0.7953488372093023 | f1_cv_10=0.718105644927604 | acc_test=0.8046511627906977 | f1_test=0.72\nTRAIN_CLF   : INFO     [SVC] C=5.4 | acc_train=1.0 | acc_cv_10=0.7953488372093023 | f1_cv_10=0.718105644927604 | acc_test=0.8046511627906977 | f1_test=0.72\nTRAIN_CLF   : INFO     [SVC] C=5.5 | acc_train=1.0 | acc_cv_10=0.7930232558139535 | f1_cv_10=0.7128146396365987 | acc_test=0.8046511627906977 | f1_test=0.72\nTRAIN_CLF   : INFO     [SVC] C=5.5 | acc_train=1.0 | acc_cv_10=0.7930232558139535 | f1_cv_10=0.7128146396365987 | acc_test=0.8046511627906977 | f1_test=0.72\nTRAIN_CLF   : INFO     [SVC] C=5.6 | acc_train=1.0 | acc_cv_10=0.7930232558139535 | f1_cv_10=0.7128146396365987 | acc_test=0.8 | f1_test=0.7114093959731543\nTRAIN_CLF   : INFO     [SVC] C=5.6 | acc_train=1.0 | acc_cv_10=0.7930232558139535 | f1_cv_10=0.7128146396365987 | acc_test=0.8 | f1_test=0.7114093959731543\nTRAIN_CLF   : INFO     [SVC] C=5.7 | acc_train=1.0 | acc_cv_10=0.7930232558139535 | f1_cv_10=0.7128146396365987 | acc_test=0.8 | f1_test=0.7114093959731543\nTRAIN_CLF   : INFO     [SVC] C=5.7 | acc_train=1.0 | acc_cv_10=0.7930232558139535 | f1_cv_10=0.7128146396365987 | acc_test=0.8 | f1_test=0.7114093959731543\nTRAIN_CLF   : INFO     [SVC] C=5.8 | acc_train=1.0 | acc_cv_10=0.7930232558139535 | f1_cv_10=0.7128146396365987 | acc_test=0.8 | f1_test=0.7114093959731543\nTRAIN_CLF   : INFO     [SVC] C=5.8 | acc_train=1.0 | acc_cv_10=0.7930232558139535 | f1_cv_10=0.7128146396365987 | acc_test=0.8 | f1_test=0.7114093959731543\nTRAIN_CLF   : INFO     [SVC] C=5.9 | acc_train=1.0 | acc_cv_10=0.7930232558139535 | f1_cv_10=0.7128146396365987 | acc_test=0.8 | f1_test=0.7114093959731543\nTRAIN_CLF   : INFO     [SVC] C=5.9 | acc_train=1.0 | acc_cv_10=0.7930232558139535 | f1_cv_10=0.7128146396365987 | acc_test=0.8 | f1_test=0.7114093959731543\nTRAIN_CLF   : INFO     [SVC] C=6.0 | acc_train=1.0 | acc_cv_10=0.7930232558139535 | f1_cv_10=0.7128146396365987 | acc_test=0.8 | f1_test=0.7114093959731543\nTRAIN_CLF   : INFO     [SVC] C=6.0 | acc_train=1.0 | acc_cv_10=0.7930232558139535 | f1_cv_10=0.7128146396365987 | acc_test=0.8 | f1_test=0.7114093959731543\nTRAIN_CLF   : INFO     [SVC] C=6.1 | acc_train=1.0 | acc_cv_10=0.7930232558139535 | f1_cv_10=0.7128146396365987 | acc_test=0.8 | f1_test=0.7114093959731543\nTRAIN_CLF   : INFO     [SVC] C=6.1 | acc_train=1.0 | acc_cv_10=0.7930232558139535 | f1_cv_10=0.7128146396365987 | acc_test=0.8 | f1_test=0.7114093959731543\nTRAIN_CLF   : INFO     [SVC] C=6.2 | acc_train=1.0 | acc_cv_10=0.7930232558139535 | f1_cv_10=0.7128146396365987 | acc_test=0.8 | f1_test=0.7114093959731543\nTRAIN_CLF   : INFO     [SVC] C=6.2 | acc_train=1.0 | acc_cv_10=0.7930232558139535 | f1_cv_10=0.7128146396365987 | acc_test=0.8 | f1_test=0.7114093959731543\nTRAIN_CLF   : INFO     [SVC] C=6.3 | acc_train=1.0 | acc_cv_10=0.7906976744186046 | f1_cv_10=0.7088737529370913 | acc_test=0.8 | f1_test=0.7114093959731543\nTRAIN_CLF   : INFO     [SVC] C=6.3 | acc_train=1.0 | acc_cv_10=0.7906976744186046 | f1_cv_10=0.7088737529370913 | acc_test=0.8 | f1_test=0.7114093959731543\nTRAIN_CLF   : INFO     [SVC] C=6.4 | acc_train=1.0 | acc_cv_10=0.7906976744186046 | f1_cv_10=0.7088737529370913 | acc_test=0.8 | f1_test=0.7114093959731543\nTRAIN_CLF   : INFO     [SVC] C=6.4 | acc_train=1.0 | acc_cv_10=0.7906976744186046 | f1_cv_10=0.7088737529370913 | acc_test=0.8 | f1_test=0.7114093959731543\nTRAIN_CLF   : INFO     [SVC] C=6.5 | acc_train=1.0 | acc_cv_10=0.7906976744186046 | f1_cv_10=0.7088737529370913 | acc_test=0.8 | f1_test=0.7114093959731543\nTRAIN_CLF   : INFO     [SVC] C=6.5 | acc_train=1.0 | acc_cv_10=0.7906976744186046 | f1_cv_10=0.7088737529370913 | acc_test=0.8 | f1_test=0.7114093959731543\nTRAIN_CLF   : INFO     [SVC] C=6.6 | acc_train=1.0 | acc_cv_10=0.7906976744186046 | f1_cv_10=0.7088737529370913 | acc_test=0.8 | f1_test=0.7114093959731543\nTRAIN_CLF   : INFO     [SVC] C=6.6 | acc_train=1.0 | acc_cv_10=0.7906976744186046 | f1_cv_10=0.7088737529370913 | acc_test=0.8 | f1_test=0.7114093959731543\nTRAIN_CLF   : INFO     [SVC] C=6.7 | acc_train=1.0 | acc_cv_10=0.7906976744186046 | f1_cv_10=0.7088737529370913 | acc_test=0.8 | f1_test=0.7114093959731543\nTRAIN_CLF   : INFO     [SVC] C=6.7 | acc_train=1.0 | acc_cv_10=0.7906976744186046 | f1_cv_10=0.7088737529370913 | acc_test=0.8 | f1_test=0.7114093959731543\nTRAIN_CLF   : INFO     [SVC] C=6.8 | acc_train=1.0 | acc_cv_10=0.7906976744186046 | f1_cv_10=0.7088737529370913 | acc_test=0.8 | f1_test=0.7114093959731543\nTRAIN_CLF   : INFO     [SVC] C=6.8 | acc_train=1.0 | acc_cv_10=0.7906976744186046 | f1_cv_10=0.7088737529370913 | acc_test=0.8 | f1_test=0.7114093959731543\nTRAIN_CLF   : INFO     [SVC] C=6.9 | acc_train=1.0 | acc_cv_10=0.7906976744186046 | f1_cv_10=0.7088737529370913 | acc_test=0.8 | f1_test=0.7114093959731543\nTRAIN_CLF   : INFO     [SVC] C=6.9 | acc_train=1.0 | acc_cv_10=0.7906976744186046 | f1_cv_10=0.7088737529370913 | acc_test=0.8 | f1_test=0.7114093959731543\nTRAIN_CLF   : INFO     [SVC] C=7.0 | acc_train=1.0 | acc_cv_10=0.7906976744186046 | f1_cv_10=0.7088737529370913 | acc_test=0.8 | f1_test=0.7114093959731543\nTRAIN_CLF   : INFO     [SVC] C=7.0 | acc_train=1.0 | acc_cv_10=0.7906976744186046 | f1_cv_10=0.7088737529370913 | acc_test=0.8 | f1_test=0.7114093959731543\nTRAIN_CLF   : INFO     [SVC] C=7.1 | acc_train=1.0 | acc_cv_10=0.7906976744186046 | f1_cv_10=0.7088737529370913 | acc_test=0.8 | f1_test=0.7114093959731543\nTRAIN_CLF   : INFO     [SVC] C=7.1 | acc_train=1.0 | acc_cv_10=0.7906976744186046 | f1_cv_10=0.7088737529370913 | acc_test=0.8 | f1_test=0.7114093959731543\nTRAIN_CLF   : INFO     [SVC] C=7.2 | acc_train=1.0 | acc_cv_10=0.7906976744186046 | f1_cv_10=0.7088737529370913 | acc_test=0.8 | f1_test=0.7114093959731543\nTRAIN_CLF   : INFO     [SVC] C=7.2 | acc_train=1.0 | acc_cv_10=0.7906976744186046 | f1_cv_10=0.7088737529370913 | acc_test=0.8 | f1_test=0.7114093959731543\nTRAIN_CLF   : INFO     [SVC] C=7.3 | acc_train=1.0 | acc_cv_10=0.7906976744186046 | f1_cv_10=0.7088737529370913 | acc_test=0.8 | f1_test=0.7114093959731543\nTRAIN_CLF   : INFO     [SVC] C=7.3 | acc_train=1.0 | acc_cv_10=0.7906976744186046 | f1_cv_10=0.7088737529370913 | acc_test=0.8 | f1_test=0.7114093959731543\nTRAIN_CLF   : INFO     [SVC] C=7.4 | acc_train=1.0 | acc_cv_10=0.7906976744186046 | f1_cv_10=0.7088737529370913 | acc_test=0.8 | f1_test=0.7114093959731543\nTRAIN_CLF   : INFO     [SVC] C=7.4 | acc_train=1.0 | acc_cv_10=0.7906976744186046 | f1_cv_10=0.7088737529370913 | acc_test=0.8 | f1_test=0.7114093959731543\nTRAIN_CLF   : INFO     [SVC] C=7.5 | acc_train=1.0 | acc_cv_10=0.7930232558139535 | f1_cv_10=0.7128146396365987 | acc_test=0.8 | f1_test=0.7114093959731543\nTRAIN_CLF   : INFO     [SVC] C=7.5 | acc_train=1.0 | acc_cv_10=0.7930232558139535 | f1_cv_10=0.7128146396365987 | acc_test=0.8 | f1_test=0.7114093959731543\nTRAIN_CLF   : INFO     [SVC] C=7.6 | acc_train=1.0 | acc_cv_10=0.7930232558139535 | f1_cv_10=0.7128146396365987 | acc_test=0.8 | f1_test=0.7114093959731543\nTRAIN_CLF   : INFO     [SVC] C=7.6 | acc_train=1.0 | acc_cv_10=0.7930232558139535 | f1_cv_10=0.7128146396365987 | acc_test=0.8 | f1_test=0.7114093959731543\nTRAIN_CLF   : INFO     [SVC] C=7.7 | acc_train=1.0 | acc_cv_10=0.7930232558139535 | f1_cv_10=0.7128146396365987 | acc_test=0.7953488372093023 | f1_test=0.7027027027027027\nTRAIN_CLF   : INFO     [SVC] C=7.7 | acc_train=1.0 | acc_cv_10=0.7930232558139535 | f1_cv_10=0.7128146396365987 | acc_test=0.7953488372093023 | f1_test=0.7027027027027027\nTRAIN_CLF   : INFO     [SVC] C=7.8 | acc_train=1.0 | acc_cv_10=0.7930232558139535 | f1_cv_10=0.7128146396365987 | acc_test=0.7953488372093023 | f1_test=0.7027027027027027\nTRAIN_CLF   : INFO     [SVC] C=7.8 | acc_train=1.0 | acc_cv_10=0.7930232558139535 | f1_cv_10=0.7128146396365987 | acc_test=0.7953488372093023 | f1_test=0.7027027027027027\nTRAIN_CLF   : INFO     [SVC] C=7.9 | acc_train=1.0 | acc_cv_10=0.7930232558139535 | f1_cv_10=0.7128146396365987 | acc_test=0.7953488372093023 | f1_test=0.7027027027027027\nTRAIN_CLF   : INFO     [SVC] C=7.9 | acc_train=1.0 | acc_cv_10=0.7930232558139535 | f1_cv_10=0.7128146396365987 | acc_test=0.7953488372093023 | f1_test=0.7027027027027027\nTRAIN_CLF   : INFO     [SVC] C=8.0 | acc_train=1.0 | acc_cv_10=0.7930232558139535 | f1_cv_10=0.7128146396365987 | acc_test=0.7953488372093023 | f1_test=0.7027027027027027\nTRAIN_CLF   : INFO     [SVC] C=8.0 | acc_train=1.0 | acc_cv_10=0.7930232558139535 | f1_cv_10=0.7128146396365987 | acc_test=0.7953488372093023 | f1_test=0.7027027027027027\nTRAIN_CLF   : INFO     [SVC] C=8.1 | acc_train=1.0 | acc_cv_10=0.7930232558139535 | f1_cv_10=0.7128146396365987 | acc_test=0.7953488372093023 | f1_test=0.7027027027027027\nTRAIN_CLF   : INFO     [SVC] C=8.1 | acc_train=1.0 | acc_cv_10=0.7930232558139535 | f1_cv_10=0.7128146396365987 | acc_test=0.7953488372093023 | f1_test=0.7027027027027027\nTRAIN_CLF   : INFO     [SVC] C=8.2 | acc_train=1.0 | acc_cv_10=0.7930232558139535 | f1_cv_10=0.7128146396365987 | acc_test=0.7953488372093023 | f1_test=0.7027027027027027\nTRAIN_CLF   : INFO     [SVC] C=8.2 | acc_train=1.0 | acc_cv_10=0.7930232558139535 | f1_cv_10=0.7128146396365987 | acc_test=0.7953488372093023 | f1_test=0.7027027027027027\nTRAIN_CLF   : INFO     [SVC] C=8.3 | acc_train=1.0 | acc_cv_10=0.7930232558139535 | f1_cv_10=0.7128146396365987 | acc_test=0.7953488372093023 | f1_test=0.7027027027027027\nTRAIN_CLF   : INFO     [SVC] C=8.3 | acc_train=1.0 | acc_cv_10=0.7930232558139535 | f1_cv_10=0.7128146396365987 | acc_test=0.7953488372093023 | f1_test=0.7027027027027027\nTRAIN_CLF   : INFO     [SVC] C=8.4 | acc_train=1.0 | acc_cv_10=0.7930232558139535 | f1_cv_10=0.7128146396365987 | acc_test=0.7953488372093023 | f1_test=0.7027027027027027\nTRAIN_CLF   : INFO     [SVC] C=8.4 | acc_train=1.0 | acc_cv_10=0.7930232558139535 | f1_cv_10=0.7128146396365987 | acc_test=0.7953488372093023 | f1_test=0.7027027027027027\nTRAIN_CLF   : INFO     [SVC] C=8.5 | acc_train=1.0 | acc_cv_10=0.7930232558139535 | f1_cv_10=0.7128146396365987 | acc_test=0.7953488372093023 | f1_test=0.7027027027027027\nTRAIN_CLF   : INFO     [SVC] C=8.5 | acc_train=1.0 | acc_cv_10=0.7930232558139535 | f1_cv_10=0.7128146396365987 | acc_test=0.7953488372093023 | f1_test=0.7027027027027027\nTRAIN_CLF   : INFO     [SVC] C=8.6 | acc_train=1.0 | acc_cv_10=0.7930232558139535 | f1_cv_10=0.7128146396365987 | acc_test=0.7953488372093023 | f1_test=0.7027027027027027\nTRAIN_CLF   : INFO     [SVC] C=8.6 | acc_train=1.0 | acc_cv_10=0.7930232558139535 | f1_cv_10=0.7128146396365987 | acc_test=0.7953488372093023 | f1_test=0.7027027027027027\nTRAIN_CLF   : INFO     [SVC] C=8.7 | acc_train=1.0 | acc_cv_10=0.7930232558139535 | f1_cv_10=0.7128146396365987 | acc_test=0.7953488372093023 | f1_test=0.7027027027027027\nTRAIN_CLF   : INFO     [SVC] C=8.7 | acc_train=1.0 | acc_cv_10=0.7930232558139535 | f1_cv_10=0.7128146396365987 | acc_test=0.7953488372093023 | f1_test=0.7027027027027027\nTRAIN_CLF   : INFO     [SVC] C=8.8 | acc_train=1.0 | acc_cv_10=0.7930232558139535 | f1_cv_10=0.7128146396365987 | acc_test=0.7953488372093023 | f1_test=0.7027027027027027\nTRAIN_CLF   : INFO     [SVC] C=8.8 | acc_train=1.0 | acc_cv_10=0.7930232558139535 | f1_cv_10=0.7128146396365987 | acc_test=0.7953488372093023 | f1_test=0.7027027027027027\nTRAIN_CLF   : INFO     [SVC] C=8.9 | acc_train=1.0 | acc_cv_10=0.7930232558139535 | f1_cv_10=0.7128146396365987 | acc_test=0.7953488372093023 | f1_test=0.7027027027027027\nTRAIN_CLF   : INFO     [SVC] C=8.9 | acc_train=1.0 | acc_cv_10=0.7930232558139535 | f1_cv_10=0.7128146396365987 | acc_test=0.7953488372093023 | f1_test=0.7027027027027027\nTRAIN_CLF   : INFO     [SVC] C=9.0 | acc_train=1.0 | acc_cv_10=0.7930232558139535 | f1_cv_10=0.7128146396365987 | acc_test=0.7953488372093023 | f1_test=0.7027027027027027\nTRAIN_CLF   : INFO     [SVC] C=9.0 | acc_train=1.0 | acc_cv_10=0.7930232558139535 | f1_cv_10=0.7128146396365987 | acc_test=0.7953488372093023 | f1_test=0.7027027027027027\nTRAIN_CLF   : INFO     [SVC] C=9.1 | acc_train=1.0 | acc_cv_10=0.7930232558139535 | f1_cv_10=0.7128146396365987 | acc_test=0.7953488372093023 | f1_test=0.7027027027027027\nTRAIN_CLF   : INFO     [SVC] C=9.1 | acc_train=1.0 | acc_cv_10=0.7930232558139535 | f1_cv_10=0.7128146396365987 | acc_test=0.7953488372093023 | f1_test=0.7027027027027027\nTRAIN_CLF   : INFO     [SVC] C=9.2 | acc_train=1.0 | acc_cv_10=0.7930232558139535 | f1_cv_10=0.7128146396365987 | acc_test=0.7953488372093023 | f1_test=0.7027027027027027\nTRAIN_CLF   : INFO     [SVC] C=9.2 | acc_train=1.0 | acc_cv_10=0.7930232558139535 | f1_cv_10=0.7128146396365987 | acc_test=0.7953488372093023 | f1_test=0.7027027027027027\nTRAIN_CLF   : INFO     [SVC] C=9.3 | acc_train=1.0 | acc_cv_10=0.7930232558139535 | f1_cv_10=0.7128146396365987 | acc_test=0.7953488372093023 | f1_test=0.7027027027027027\nTRAIN_CLF   : INFO     [SVC] C=9.3 | acc_train=1.0 | acc_cv_10=0.7930232558139535 | f1_cv_10=0.7128146396365987 | acc_test=0.7953488372093023 | f1_test=0.7027027027027027\nTRAIN_CLF   : INFO     [SVC] C=9.4 | acc_train=1.0 | acc_cv_10=0.7930232558139535 | f1_cv_10=0.7128146396365987 | acc_test=0.7953488372093023 | f1_test=0.7027027027027027\nTRAIN_CLF   : INFO     [SVC] C=9.4 | acc_train=1.0 | acc_cv_10=0.7930232558139535 | f1_cv_10=0.7128146396365987 | acc_test=0.7953488372093023 | f1_test=0.7027027027027027\nTRAIN_CLF   : INFO     [SVC] C=9.5 | acc_train=1.0 | acc_cv_10=0.7930232558139535 | f1_cv_10=0.7128146396365987 | acc_test=0.7953488372093023 | f1_test=0.7027027027027027\nTRAIN_CLF   : INFO     [SVC] C=9.5 | acc_train=1.0 | acc_cv_10=0.7930232558139535 | f1_cv_10=0.7128146396365987 | acc_test=0.7953488372093023 | f1_test=0.7027027027027027\nTRAIN_CLF   : INFO     [SVC] C=9.6 | acc_train=1.0 | acc_cv_10=0.7930232558139535 | f1_cv_10=0.7128146396365987 | acc_test=0.7953488372093023 | f1_test=0.7027027027027027\nTRAIN_CLF   : INFO     [SVC] C=9.6 | acc_train=1.0 | acc_cv_10=0.7930232558139535 | f1_cv_10=0.7128146396365987 | acc_test=0.7953488372093023 | f1_test=0.7027027027027027\nTRAIN_CLF   : INFO     [SVC] C=9.7 | acc_train=1.0 | acc_cv_10=0.7930232558139535 | f1_cv_10=0.7128146396365987 | acc_test=0.7953488372093023 | f1_test=0.7027027027027027\nTRAIN_CLF   : INFO     [SVC] C=9.7 | acc_train=1.0 | acc_cv_10=0.7930232558139535 | f1_cv_10=0.7128146396365987 | acc_test=0.7953488372093023 | f1_test=0.7027027027027027\nTRAIN_CLF   : INFO     [SVC] C=9.8 | acc_train=1.0 | acc_cv_10=0.7930232558139535 | f1_cv_10=0.7128146396365987 | acc_test=0.7953488372093023 | f1_test=0.7027027027027027\nTRAIN_CLF   : INFO     [SVC] C=9.8 | acc_train=1.0 | acc_cv_10=0.7930232558139535 | f1_cv_10=0.7128146396365987 | acc_test=0.7953488372093023 | f1_test=0.7027027027027027\nTRAIN_CLF   : INFO     [SVC] C=9.9 | acc_train=1.0 | acc_cv_10=0.7930232558139535 | f1_cv_10=0.7128146396365987 | acc_test=0.7953488372093023 | f1_test=0.7027027027027027\nTRAIN_CLF   : INFO     [SVC] C=9.9 | acc_train=1.0 | acc_cv_10=0.7930232558139535 | f1_cv_10=0.7128146396365987 | acc_test=0.7953488372093023 | f1_test=0.7027027027027027\nTRAIN_CLF   : INFO     [SVC] C=10.0 | acc_train=1.0 | acc_cv_10=0.7930232558139535 | f1_cv_10=0.7128146396365987 | acc_test=0.7953488372093023 | f1_test=0.7027027027027027\nTRAIN_CLF   : INFO     [SVC] C=10.0 | acc_train=1.0 | acc_cv_10=0.7930232558139535 | f1_cv_10=0.7128146396365987 | acc_test=0.7953488372093023 | f1_test=0.7027027027027027\nTRAIN_CLF   : INFO     [SVC] C=100.0 | acc_train=1.0 | acc_cv_10=0.7930232558139535 | f1_cv_10=0.7128146396365987 | acc_test=0.7953488372093023 | f1_test=0.7027027027027027\nTRAIN_CLF   : INFO     [SVC] C=100.0 | acc_train=1.0 | acc_cv_10=0.7930232558139535 | f1_cv_10=0.7128146396365987 | acc_test=0.7953488372093023 | f1_test=0.7027027027027027\nTRAIN_CLF   : INFO     [SVC] C=10000.0 | acc_train=1.0 | acc_cv_10=0.7930232558139535 | f1_cv_10=0.7128146396365987 | acc_test=0.7953488372093023 | f1_test=0.7027027027027027\nTRAIN_CLF   : INFO     [SVC] C=10000.0 | acc_train=1.0 | acc_cv_10=0.7930232558139535 | f1_cv_10=0.7128146396365987 | acc_test=0.7953488372093023 | f1_test=0.7027027027027027\nTRAIN_CLF   : INFO     [SVC] C=99999999.0 | acc_train=1.0 | acc_cv_10=0.7930232558139535 | f1_cv_10=0.7128146396365987 | acc_test=0.7953488372093023 | f1_test=0.7027027027027027\nTRAIN_CLF   : INFO     [SVC] C=99999999.0 | acc_train=1.0 | acc_cv_10=0.7930232558139535 | f1_cv_10=0.7128146396365987 | acc_test=0.7953488372093023 | f1_test=0.7027027027027027\n"
    }
   ],
   "source": [
    "import warnings\n",
    "# warnings.filterwarnings(\"ignore\", category = ignoreConvergenceWarning)\n",
    "warnings.filterwarnings('ignore', 'F-score is.*')\n",
    "lb = preprocessing.LabelBinarizer()\n",
    "x_labels = lb.fit_transform(labels[id1]).ravel()\n",
    "C = [0.00001, 0.001, 0.002, 0.005, 0.01, 0.05] + np.around(np.linspace(0.1,10,100,endpoint=True),2).tolist() + [100.0, 10000.0, 99999999.0]\n",
    "# C = [0.9]\n",
    "for c in C:\n",
    "    global exp_dict\n",
    "    exp_dict['classifier'] = 'SVC'\n",
    "    exp_dict['svc_C'] = c\n",
    "    exp_dict['svc_max_iter'] = 5000\n",
    "    model = Pipeline([\n",
    "                (\"scaler\", StandardScaler()),\n",
    "                (\"svc\", SVC(C=c, gamma=\"auto\", max_iter = exp_dict['svc_max_iter']))\n",
    "            ])\n",
    "    model.fit(train_x, labels[id1])\n",
    "    trn_pred = model.predict(train_x)\n",
    "    tst_pred = model.predict(test_x)\n",
    "    exp_dict['acc_train'] = float(accuracy_score(labels[id1], trn_pred))\n",
    "    cm = confusion_matrix(labels[id2], tst_pred)\n",
    "    tn, fp, fn, tp = cm.ravel()    \n",
    "    exp_dict['TN'] = int(tn)\n",
    "    exp_dict['FP'] = int(fp)\n",
    "    exp_dict['FN'] = int(fn)\n",
    "    exp_dict['TP'] = int(tp)\n",
    "    exp_dict['accuracy'] = float(np.mean(tst_pred == labels[id2]))\n",
    "    exp_dict['f1'] = float(2.0*tp/(2.0*tp + fp + fn))\n",
    "\n",
    "    exp_dict['acc_cv_10'] = float(np.mean(cross_val_score(model, train_x, x_labels, cv=10, scoring='accuracy')))\n",
    "    exp_dict['f1_cv_10'] = float(np.mean(cross_val_score(model, train_x, x_labels, cv=10, scoring='f1')))\n",
    "    mylogger.info(f'[SVC] C={c} | acc_train={exp_dict[\"acc_train\"]} | acc_cv_10={exp_dict[\"acc_cv_10\"]} | f1_cv_10={exp_dict[\"f1_cv_10\"]} | acc_test={exp_dict[\"accuracy\"]} | f1_test={exp_dict[\"f1\"]}')\n",
    "    # | tp={tp} | fn={fn} | fp={fp} | tn={tn}\n",
    "    log_resultt()"
   ]
  },
  {
   "cell_type": "code",
   "execution_count": 16,
   "metadata": {},
   "outputs": [],
   "source": [
    "    # mylogger.info(f'n_right_predictions: {tp+tn}')\n",
    "    # mylogger.info(f'Accuracy: {accuracy}')\n",
    "    # mylogger.info(f'TP: {tp} \\tFN: {fn}')\n",
    "    # mylogger.info(f'FP: {fp} \\tTN: {tn}')\n",
    "    # mylogger.info(f'F1: {f1}')"
   ]
  },
  {
   "cell_type": "code",
   "execution_count": 0,
   "metadata": {},
   "outputs": [],
   "source": [
    "# result_info = {\n",
    "#     'db': exp_dict['db'],\n",
    "#     'tool': exp_dict['tool'],\n",
    "#     'db_name': exp_dict['db_name'],\n",
    "#     'add_ir_variables': 'true' if add_ir_variables else 'false',\n",
    "#     'solution_number': exp_dict['solution_number'],\n",
    "#     'solution_name': exp_dict['solution_name'],\n",
    "#     'TP': str(tp),\n",
    "#     'FP': str(fp),\n",
    "#     'TN': str(tn),\n",
    "#     'FN': str(fn),\n",
    "#     'accuracy': str(accuracy),\n",
    "#     'f1': str(f1),\n",
    "# }\n",
    "# result_id = datetime.datetime.now().strftime(\"%Y%m%d-%H%M%S.%f\")\n",
    "# testTool.log_result(result_id, {\n",
    "#     'exp_id': exp_id,\n",
    "#     'variable': 'CLF_ACC',\n",
    "#     ** testTool.get_parameters(),\n",
    "#     ** result_info,\n",
    "#     'value': str(accuracy),\n",
    "# })\n",
    "# result_id = datetime.datetime.now().strftime(\"%Y%m%d-%H%M%S.%f\")\n",
    "# testTool.log_result(result_id, {\n",
    "#     'exp_id': exp_id,\n",
    "#     'variable': 'CLF_F1',\n",
    "#     ** testTool.get_parameters(),\n",
    "#     ** result_info,\n",
    "#     'value': str(f1),\n",
    "# })"
   ]
  },
  {
   "cell_type": "code",
   "execution_count": 0,
   "metadata": {},
   "outputs": [],
   "source": [
    "# # fit the model to all samples\n",
    "# model.fit(glove_texts, labels)\n",
    "# # save the model\n",
    "# pickle.dump(model, open(root_path + 'corpus_2_solution_2/trained_clsf/svm_glove_adapted.sav', 'wb'))\n",
    "\n",
    "# # save the predictions\n",
    "# np.save(root_path + \"corpus_2_solution_2/predictions/glove_svm_adapted_pred\", tst_pred)"
   ]
  }
 ],
 "metadata": {
  "kernelspec": {
   "display_name": "Python 3",
   "language": "python",
   "name": "python3"
  },
  "language_info": {
   "codemirror_mode": {
    "name": "ipython",
    "version": 3
   },
   "file_extension": ".py",
   "mimetype": "text/x-python",
   "name": "python",
   "nbconvert_exporter": "python",
   "pygments_lexer": "ipython3",
   "version": "3.7.5-final"
  }
 },
 "nbformat": 4,
 "nbformat_minor": 2
}